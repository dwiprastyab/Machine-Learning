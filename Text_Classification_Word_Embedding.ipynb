{
  "nbformat": 4,
  "nbformat_minor": 0,
  "metadata": {
    "colab": {
      "name": "Text Classification Word Embedding.ipynb",
      "version": "0.3.2",
      "provenance": [],
      "collapsed_sections": [],
      "toc_visible": true
    },
    "kernelspec": {
      "name": "python3",
      "display_name": "Python 3"
    }
  },
  "cells": [
    {
      "cell_type": "markdown",
      "metadata": {
        "id": "MQ338Pnf1fGj",
        "colab_type": "text"
      },
      "source": [
        "#Pembuatan Model Word2vec"
      ]
    },
    {
      "cell_type": "code",
      "metadata": {
        "id": "ylvSdJC_or-4",
        "colab_type": "code",
        "outputId": "be7614b8-63a7-4c35-a32f-7d3395ea7082",
        "colab": {
          "base_uri": "https://localhost:8080/",
          "height": 51
        }
      },
      "source": [
        "# Python program to generate word vectors using Word2Vec \n",
        "\n",
        "import nltk\n",
        "nltk.download('punkt')\n",
        "# importing all necessary modules \n",
        "from nltk.tokenize import sent_tokenize, word_tokenize \n",
        "import warnings \n",
        "\n",
        "warnings.filterwarnings(action = 'ignore') \n",
        "\n",
        "import gensim \n",
        "from gensim.models import Word2Vec \n",
        "\n",
        "\n"
      ],
      "execution_count": 1,
      "outputs": [
        {
          "output_type": "stream",
          "text": [
            "[nltk_data] Downloading package punkt to /root/nltk_data...\n",
            "[nltk_data]   Package punkt is already up-to-date!\n"
          ],
          "name": "stdout"
        }
      ]
    },
    {
      "cell_type": "code",
      "metadata": {
        "id": "1rojBBkfGfST",
        "colab_type": "code",
        "colab": {}
      },
      "source": [
        "# Reads ‘alice.txt’ file \n",
        "sample = open(\"/content/alice_in_wonderland.txt\", \"r\") \n",
        "s = sample.read() \n",
        "\n",
        "# Replaces escape character with space \n",
        "f = s.replace(\"\\n\", \" \") \n",
        "\n",
        "data = [] \n",
        "\n",
        "# iterate through each sentence in the file \n",
        "for i in sent_tokenize(f): \n",
        "\ttemp = [] \n",
        "\t\n",
        "\t# tokenize the sentence into words \n",
        "\tfor j in word_tokenize(i): \n",
        "\t\ttemp.append(j.lower()) \n",
        "\n",
        "\tdata.append(temp) \n",
        "\n"
      ],
      "execution_count": 0,
      "outputs": []
    },
    {
      "cell_type": "code",
      "metadata": {
        "id": "Vj6jcycbGie9",
        "colab_type": "code",
        "colab": {}
      },
      "source": [
        "# Create CBOW model \n",
        "model1 = gensim.models.Word2Vec(data, min_count = 1,size = 100, window = 5) \n",
        "\n"
      ],
      "execution_count": 0,
      "outputs": []
    },
    {
      "cell_type": "code",
      "metadata": {
        "id": "9io3wSkBJJ20",
        "colab_type": "code",
        "colab": {
          "base_uri": "https://localhost:8080/",
          "height": 85
        },
        "outputId": "37437f19-b770-4469-b721-a49e2e398d90"
      },
      "source": [
        "# Print results \n",
        "print(\"Cosine similarity between 'alice' \" +\n",
        "\t\t\t\"and 'wonderland' - CBOW : \", \n",
        "\tmodel1.similarity('alice', 'wonderland')) \n",
        "\t\n",
        "print(\"Cosine similarity between 'alice' \" +\n",
        "\t\t\t\t\"and 'machines' - CBOW : \", \n",
        "\tmodel1.similarity('alice', 'machines')) \n",
        "\n",
        "print(\"Cosine similarity betwen 'cat' \" + \n",
        "     \"and 'mouse' - CBOW : \", \n",
        "  model1.similarity('cat','mouse'))\n",
        "\n",
        "print(\"Cosine similarity betwen 'Duck' \" + \n",
        "     \"and 'Dodo' - CBOW : \", \n",
        "  model1.similarity('duck','dodo'))"
      ],
      "execution_count": 11,
      "outputs": [
        {
          "output_type": "stream",
          "text": [
            "Cosine similarity between 'alice' and 'wonderland' - CBOW :  0.99863774\n",
            "Cosine similarity between 'alice' and 'machines' - CBOW :  0.97996604\n",
            "Cosine similarity betwen 'cat' and 'mouse' - CBOW :  0.9995157\n",
            "Cosine similarity betwen 'Duck' and 'Dodo' - CBOW :  0.9760359\n"
          ],
          "name": "stdout"
        }
      ]
    },
    {
      "cell_type": "code",
      "metadata": {
        "id": "o1HKHXNeLY5x",
        "colab_type": "code",
        "colab": {}
      },
      "source": [
        "\n",
        "# Create Skip Gram model \n",
        "model2 = gensim.models.Word2Vec(data, min_count = 1, size = 100, \n",
        "\t\t\t\t\t\t\t\t\t\t\twindow = 5, sg = 1) \n",
        "\n"
      ],
      "execution_count": 0,
      "outputs": []
    },
    {
      "cell_type": "code",
      "metadata": {
        "id": "yzE85XfNLahy",
        "colab_type": "code",
        "colab": {
          "base_uri": "https://localhost:8080/",
          "height": 85
        },
        "outputId": "04ec56b8-aaff-4fa0-b9a0-1bbe28a6495d"
      },
      "source": [
        "# Print results \n",
        "print(\"Cosine similarity between 'alice' \" +\n",
        "\t\t\"and 'wonderland' - Skip Gram : \", \n",
        "\tmodel2.similarity('alice', 'wonderland')) \n",
        "\t\n",
        "print(\"Cosine similarity between 'alice' \" +\n",
        "\t\t\t\"and 'machines' - Skip Gram : \", \n",
        "\tmodel2.similarity('alice', 'machines'))\n",
        "\n",
        "print(\"Cosine similarity between 'cat' \" +\n",
        "\t\t\t\"and 'mouse' - Skip Gram : \", \n",
        "\tmodel2.similarity('cat', 'mouse'))\n",
        "\n",
        "\n",
        "print(\"Cosine similarity between 'Duck' \" +\n",
        "\t\t\t\"and 'Dodo' - Skip Gram : \", \n",
        "\tmodel2.similarity('duck', 'dodo'))\n",
        "\n"
      ],
      "execution_count": 16,
      "outputs": [
        {
          "output_type": "stream",
          "text": [
            "Cosine similarity between 'alice' and 'wonderland' - Skip Gram :  0.9243515\n",
            "Cosine similarity between 'alice' and 'machines' - Skip Gram :  0.9028651\n",
            "Cosine similarity between 'cat' and 'mouse' - Skip Gram :  0.9988269\n",
            "Cosine similarity between 'Duck' and 'Dodo' - Skip Gram :  0.9977419\n"
          ],
          "name": "stdout"
        }
      ]
    }
  ]
}